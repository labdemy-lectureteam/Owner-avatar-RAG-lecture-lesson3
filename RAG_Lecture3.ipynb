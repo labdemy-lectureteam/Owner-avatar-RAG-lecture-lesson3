{
  "cells": [
    {
      "cell_type": "markdown",
      "metadata": {
        "id": "bdkNU2eiJNlU"
      },
      "source": [
        "# 準備"
      ]
    },
    {
      "cell_type": "markdown",
      "metadata": {
        "id": "zbhewFTHJSSV"
      },
      "source": [
        "git cloneで今回利用するファイルを取得"
      ]
    },
    {
      "cell_type": "code",
      "execution_count": 1,
      "metadata": {
        "id": "SyZqWvqzJMSW",
        "colab": {
          "base_uri": "https://localhost:8080/"
        },
        "outputId": "dafab56e-ee41-4955-ac05-199a65b2470b"
      },
      "outputs": [
        {
          "output_type": "stream",
          "name": "stdout",
          "text": [
            "Cloning into 'RAG-lecture-lesson1'...\n",
            "remote: Enumerating objects: 56, done.\u001b[K\n",
            "remote: Counting objects: 100% (56/56), done.\u001b[K\n",
            "remote: Compressing objects: 100% (40/40), done.\u001b[K\n",
            "remote: Total 56 (delta 17), reused 50 (delta 14), pack-reused 0 (from 0)\u001b[K\n",
            "Receiving objects: 100% (56/56), 888.12 KiB | 9.45 MiB/s, done.\n",
            "Resolving deltas: 100% (17/17), done.\n"
          ]
        }
      ],
      "source": [
        "!git clone https://github.com/labdemy-lectureteam/RAG-lecture-lesson1.git"
      ]
    },
    {
      "cell_type": "markdown",
      "metadata": {
        "id": "NEQAKVNsJXDA"
      },
      "source": [
        "必要パッケージのインストール"
      ]
    },
    {
      "cell_type": "code",
      "execution_count": 45,
      "metadata": {
        "id": "EhC_wVWRJWL8"
      },
      "outputs": [],
      "source": [
        "%pip install -qU langchain_community\n",
        "%pip install -qU pypdf\n",
        "%pip install -qU nltk\n",
        "%pip install -qU langchain_openai langchain_chroma\n",
        "%pip install -qU unstructured\n",
        "%pip install -qU datasets\n",
        "%pip install -qU ragas\n",
        "%pip install -qU tqdm"
      ]
    },
    {
      "cell_type": "markdown",
      "metadata": {
        "id": "GVehmLMvVRGR"
      },
      "source": [
        "API KEYの設定"
      ]
    },
    {
      "cell_type": "code",
      "execution_count": 18,
      "metadata": {
        "id": "-DrXeo3AVRGR"
      },
      "outputs": [],
      "source": [
        "import os\n",
        "from google.colab import userdata\n",
        "os.environ[\"OPENAI_API_KEY\"] = userdata.get('OPENAI_API_KEY')"
      ]
    },
    {
      "cell_type": "markdown",
      "source": [
        "## RAG関連の関数の定義\n",
        "\n",
        "streamlitアプリのrag.pyのコードをほとんどそのままコピペしてきてます。"
      ],
      "metadata": {
        "id": "HqKCpwebdjn5"
      }
    },
    {
      "cell_type": "code",
      "source": [
        "from langchain_community.document_loaders import PyPDFLoader, PyPDFDirectoryLoader\n",
        "from langchain_text_splitters import RecursiveCharacterTextSplitter\n",
        "from langchain_chroma import Chroma\n",
        "from langchain_openai import OpenAIEmbeddings\n",
        "from langchain_core.prompts import ChatPromptTemplate\n",
        "import shutil\n",
        "import os\n",
        "from langchain_openai import ChatOpenAI\n",
        "import chromadb\n",
        "\n",
        "from typing import List, Dict, Any\n",
        "from langchain_core.vectorstores import VectorStore\n",
        "from langchain_core.documents import Document\n",
        "\n",
        "def load_PDF(path: str) -> List[Document]:\n",
        "    if os.path.isdir(path):\n",
        "        loader = PyPDFDirectoryLoader(path, glob=\"*.pdf\")\n",
        "        try:\n",
        "            documents = loader.load()\n",
        "        except Exception as error:\n",
        "            print(error)\n",
        "    elif os.path.isfile(path):\n",
        "        if not path.lower().endswith('.pdf'):\n",
        "            raise ValueError(f\"与えられたファイル：  '{path}' はPDFではありません.\")\n",
        "        loader = PyPDFLoader(path)\n",
        "        documents = loader.load()\n",
        "    else:\n",
        "        raise ValueError(f\"与えられたパス： '{path}' はファイルでもディレクトリでもありません。\")\n",
        "    if not documents:\n",
        "        raise ValueError(f\"与えられたパス： '{path}' からのファイルの読み込みに失敗しました。\")\n",
        "    return documents\n",
        "\n",
        "def create_chunks(documents: List[Document], chunk_size: int, chunk_overlap: int) -> List[Document]:\n",
        "    text_splitter = RecursiveCharacterTextSplitter(\n",
        "        chunk_size=chunk_size,\n",
        "        chunk_overlap=chunk_overlap,\n",
        "        length_function=len,\n",
        "        add_start_index=True\n",
        "    )\n",
        "    chunks = text_splitter.split_documents(documents)\n",
        "    return chunks\n",
        "\n",
        "def init_vector_db(embedding_model:Any,db_path:str)->Chroma:\n",
        "    if os.path.exists(db_path):\n",
        "        shutil.rmtree(db_path)\n",
        "    chromadb.api.client.SharedSystemClient.clear_system_cache()\n",
        "    vector_db = Chroma(\n",
        "        collection_name='rag_app_collection',\n",
        "        embedding_function=embedding_model,\n",
        "        persist_directory=db_path\n",
        "        )\n",
        "    return vector_db\n",
        "\n",
        "def get_context_from_db(vector_db:VectorStore, query:str, k:int=5, score_threshold:float=None)->List[Document]:\n",
        "    contexts = vector_db.similarity_search_with_relevance_scores(query,\n",
        "                                                                 k=k,\n",
        "                                                                 score_threshold=score_threshold)\n",
        "    return contexts\n",
        "\n",
        "def format_prompt(contexts:List[Document], query:str, chat_history:List[Dict[str, str]])->str:\n",
        "    PROMPT = \"\"\"\n",
        "    You are a helpful assistant. Answer the following questions based on the given context:\n",
        "    chat history: {CHAT_HISTORY}\n",
        "\n",
        "    context: {CONTEXT}\n",
        "\n",
        "    Answer the following questions based on the given context:\n",
        "    query: {QUERY}\n",
        "    \"\"\"\n",
        "    prompt = ChatPromptTemplate.from_template(PROMPT)\n",
        "    chat_history = '\\n\\n'.join([f\"{message['role']}: {message['content']}\" for message in chat_history])\n",
        "    sources = [ {'source':doc[0].metadata['source'],'page':doc[0].metadata['page']} for doc in contexts ]\n",
        "    contexts = '\\n'.join([f\"CONTEXT {idx}:\\n{res.page_content}\" for idx, (res, _score) in enumerate(contexts)])\n",
        "    prompt = prompt.format(CHAT_HISTORY=chat_history,CONTEXT=contexts, QUERY=query)\n",
        "    return prompt, sources"
      ],
      "metadata": {
        "id": "hB2PzspQdmrm"
      },
      "execution_count": 39,
      "outputs": []
    },
    {
      "cell_type": "markdown",
      "source": [
        "## ベクトル化"
      ],
      "metadata": {
        "id": "i2XDNiO4d2m6"
      }
    },
    {
      "cell_type": "code",
      "source": [
        "documents = load_PDF(\"/content/RAG-lecture-lesson1/sample_files\")\n",
        "chunks = create_chunks(documents=documents, chunk_size=100, chunk_overlap=0)\n",
        "embedding_model= OpenAIEmbeddings(model='text-embedding-3-small')\n",
        "vector_db = init_vector_db(embedding_model=embedding_model,db_path=\"database\")\n",
        "vector_db.add_documents(documents=chunks)"
      ],
      "metadata": {
        "colab": {
          "base_uri": "https://localhost:8080/"
        },
        "id": "CqZpHQkgd4cM",
        "outputId": "06ded81a-c4e9-4805-bcce-f09c7ea51c67"
      },
      "execution_count": 41,
      "outputs": [
        {
          "output_type": "execute_result",
          "data": {
            "text/plain": [
              "['eb42a0cd-39c0-4d1e-9f6d-60c646243c32',\n",
              " '68ee4356-f7c3-4c26-8ee1-3f054db291b5',\n",
              " 'c6b5dd14-72e1-4f9b-955c-72243bcdc505',\n",
              " 'abfbde24-3ca1-44f2-8d09-b86c71f3a6f9',\n",
              " '34848d46-bb88-45c0-9822-6c2cfcd1d08f',\n",
              " '78b22c02-af0d-4537-a51c-5d1105c3fe81',\n",
              " '87cdbccd-0cdd-481d-9fa7-a0bd4115f098',\n",
              " '48749863-e6dd-4d3a-b152-c7a4fd7dc33b',\n",
              " 'c4963964-bd7b-4328-b3d1-bcc216b4fe0e',\n",
              " '489d16ab-1e02-4270-8e90-b46166dc0de5',\n",
              " '26523f49-1dc7-45e8-9f11-ae23efc707da',\n",
              " '93d2c94b-4ac3-4ce5-b94d-eeb7bb073168',\n",
              " '99ada330-b306-465d-9738-c88f20550106',\n",
              " '1af97ce3-33f5-47e7-a1c7-15c8592bb5da',\n",
              " 'c67dcd2e-0375-4d6d-ba52-d1a2c08c65e4',\n",
              " '57f5f156-7e07-4881-b49d-4701a940b035',\n",
              " 'c9136da7-bece-4577-85a3-0c715d0857d3',\n",
              " '0f4e149c-59a2-4b9b-914c-4a54a8a32017']"
            ]
          },
          "metadata": {},
          "execution_count": 41
        }
      ]
    },
    {
      "cell_type": "markdown",
      "source": [
        "# RAGAsによるRAGの評価"
      ],
      "metadata": {
        "id": "4s8JWKDKVXTE"
      }
    },
    {
      "cell_type": "markdown",
      "source": [
        "## 質問とそれに対応する理想的な回答の用意"
      ],
      "metadata": {
        "id": "-Q_Hwq6qVcvL"
      }
    },
    {
      "cell_type": "code",
      "source": [
        "from datasets import Dataset\n",
        "\n",
        "# 質問集\n",
        "questions = [\"この講義はどういうものですか？\",\n",
        "             \"主催者はどういう団体ですか？\",\n",
        "             \"合計何回の講義がありますか？\",\n",
        "             \"講義日程はどうなってますか？\",\n",
        "             \"参加したい場合はどうすれば良いですか？\",\n",
        "             \"担当者の連絡先を教えてください\",\n",
        "             \"参加費はいくらですか？\",\n",
        "             \"何か事前準備は必要ですか？\"]\n",
        "\n",
        "# 理想的な回答\n",
        "ideal_answers = [\"この講義はRAGについて学ぶ講義です。\",\n",
        "                 \"主催者はAI人材の育成に取り組んでいるLabdemyという団体です。\",\n",
        "                 \"講義は合計4回です。\",\n",
        "                 \"講義日程は：\\n 第1回 2/2 (日) 14:00~15:30 \\n 第2回 2/9 (日) 14:00~15:30 \\n 第3回 2/16 (日) 14:00~15:30 \\n 第4回 2/23 (日) 14:00~15:30 \\nです。\",\n",
        "                 \"参加したい場合はこちらの[リンク](https://discord.gg/JaQPZ5Gx?event=1323252933327847464)からdiscordサーバーに参加してください。\",\n",
        "                 \"担当者の連絡先はlecture@labdemy.comです。\",\n",
        "                 \"参加費は無料です。\",\n",
        "                 \"事前準備はPython環境の準備、基礎的なプログラミング知識が必要です。\"]"
      ],
      "metadata": {
        "id": "-8aVJiHmVV4l"
      },
      "execution_count": 46,
      "outputs": []
    },
    {
      "cell_type": "markdown",
      "source": [
        "## 回答の生成"
      ],
      "metadata": {
        "id": "bVCRVKR3ViOV"
      }
    },
    {
      "cell_type": "code",
      "source": [
        "from langchain.chat_models import ChatOpenAI\n",
        "from tqdm import tqdm\n",
        "\n",
        "# モデルの準備\n",
        "chat_model = ChatOpenAI(model_name=\"gpt-4\", temperature=0, openai_api_key=os.environ[\"OPENAI_API_KEY\"])\n",
        "\n",
        "# チャット履歴\n",
        "chat_history = [] #これはずっと空っぽのまま\n",
        "\n",
        "# コンテキスト情報\n",
        "contexts = []\n",
        "\n",
        "# LLMの回答\n",
        "model_answers = []\n",
        "\n",
        "# 各質問に対して回答を生成し、それを記録していく\n",
        "for question in tqdm(questions):\n",
        "  context = get_context_from_db(vector_db,question)\n",
        "  final_prompt,_ = format_prompt(context, question,chat_history)\n",
        "  response = chat_model.invoke(final_prompt)\n",
        "\n",
        "  # contextから、文章のみを抽出して記録する\n",
        "  context_text = [item[0].page_content for item in context]\n",
        "  contexts.append(context_text)\n",
        "\n",
        "  # モデルの回答を記録\n",
        "  model_answers.append(response.content)"
      ],
      "metadata": {
        "colab": {
          "base_uri": "https://localhost:8080/"
        },
        "id": "zIbzcqXkVmC8",
        "outputId": "c8d7dc7b-0129-445a-d5c1-064aa159851d"
      },
      "execution_count": 111,
      "outputs": [
        {
          "output_type": "stream",
          "name": "stderr",
          "text": [
            " 12%|█▎        | 1/8 [00:06<00:47,  6.77s/it]<ipython-input-39-bd2c6b96f717>:55: UserWarning: Relevance scores must be between 0 and 1, got [(Document(id='26523f49-1dc7-45e8-9f11-ae23efc707da', metadata={'creationdate': '2024-12-30T12:27:58+00:00', 'creator': 'Chromium', 'moddate': '2024-12-30T12:27:58+00:00', 'page': 1, 'page_label': '2', 'producer': 'Skia/PDF m119', 'source': '/content/RAG-lecture-lesson1/sample_files/RAG講義のテスト受講案内.pdf', 'start_index': 451, 'total_pages': 3}, page_content='必要な準備： Python 環境の準備、基礎的なプログラミング知識\\n参加費⽤：無料\\n参加⽅法\\nRAG 講義のテスト受講⽤ discord サーバーにご参加ください。（招待リンクは別途\\n添付）'), 0.03670363463100257), (Document(id='489d16ab-1e02-4270-8e90-b46166dc0de5', metadata={'creationdate': '2024-12-30T12:27:58+00:00', 'creator': 'Chromium', 'moddate': '2024-12-30T12:27:58+00:00', 'page': 1, 'page_label': '2', 'producer': 'Skia/PDF m119', 'source': '/content/RAG-lecture-lesson1/sample_files/RAG講義のテスト受講案内.pdf', 'start_index': 351, 'total_pages': 3}, page_content='第 3 回  2/16 \\ue081 ⽇ \\ue082 14\\ue09200\\ue0a315\\ue09230\\n第 4 回  2/23 \\ue081 ⽇ \\ue082 14\\ue09200\\ue0a315\\ue09230\\n参加⽅法： Zoom リンク（後⽇共有） ※ 講義は全てオンラインで⾏います。'), -0.02140026840468945), (Document(id='c67dcd2e-0375-4d6d-ba52-d1a2c08c65e4', metadata={'creationdate': '2024-12-30T12:27:58+00:00', 'creator': 'Chromium', 'moddate': '2024-12-30T12:27:58+00:00', 'page': 2, 'page_label': '3', 'producer': 'Skia/PDF m119', 'source': '/content/RAG-lecture-lesson1/sample_files/RAG講義のテスト受講案内.pdf', 'start_index': 0, 'total_pages': 3}, page_content='RA G 講 義 の テ ス ト 受 講 案 内\\n3\\n講義期間中のサポート体制について'), -0.03888490215080953), (Document(id='68ee4356-f7c3-4c26-8ee1-3f054db291b5', metadata={'creationdate': '2024-12-30T12:27:58+00:00', 'creator': 'Chromium', 'moddate': '2024-12-30T12:27:58+00:00', 'page': 0, 'page_label': '1', 'producer': 'Skia/PDF m119', 'source': '/content/RAG-lecture-lesson1/sample_files/RAG講義のテスト受講案内.pdf', 'start_index': 44, 'total_pages': 3}, page_content='この度は、 Labdemy の RAG （ Retrieval-Augmented Generation ）講義のテスト受講に\\nご興味を⽰していただき、誠にありがとうございます！'), -0.10172679690939979), (Document(id='0f4e149c-59a2-4b9b-914c-4a54a8a32017', metadata={'creationdate': '2024-12-30T12:27:58+00:00', 'creator': 'Chromium', 'moddate': '2024-12-30T12:27:58+00:00', 'page': 2, 'page_label': '3', 'producer': 'Skia/PDF m119', 'source': '/content/RAG-lecture-lesson1/sample_files/RAG講義のテスト受講案内.pdf', 'start_index': 177, 'total_pages': 3}, page_content='もしご質問等ございましたら、  lecture@labdemy.com 宛にご連絡ください。'), -0.11803775245643244)]\n",
            "  contexts = vector_db.similarity_search_with_relevance_scores(query,\n",
            " 50%|█████     | 4/8 [00:14<00:14,  3.59s/it]<ipython-input-39-bd2c6b96f717>:55: UserWarning: Relevance scores must be between 0 and 1, got [(Document(id='489d16ab-1e02-4270-8e90-b46166dc0de5', metadata={'creationdate': '2024-12-30T12:27:58+00:00', 'creator': 'Chromium', 'moddate': '2024-12-30T12:27:58+00:00', 'page': 1, 'page_label': '2', 'producer': 'Skia/PDF m119', 'source': '/content/RAG-lecture-lesson1/sample_files/RAG講義のテスト受講案内.pdf', 'start_index': 351, 'total_pages': 3}, page_content='第 3 回  2/16 \\ue081 ⽇ \\ue082 14\\ue09200\\ue0a315\\ue09230\\n第 4 回  2/23 \\ue081 ⽇ \\ue082 14\\ue09200\\ue0a315\\ue09230\\n参加⽅法： Zoom リンク（後⽇共有） ※ 講義は全てオンラインで⾏います。'), 0.12595371780002496), (Document(id='26523f49-1dc7-45e8-9f11-ae23efc707da', metadata={'creationdate': '2024-12-30T12:27:58+00:00', 'creator': 'Chromium', 'moddate': '2024-12-30T12:27:58+00:00', 'page': 1, 'page_label': '2', 'producer': 'Skia/PDF m119', 'source': '/content/RAG-lecture-lesson1/sample_files/RAG講義のテスト受講案内.pdf', 'start_index': 451, 'total_pages': 3}, page_content='必要な準備： Python 環境の準備、基礎的なプログラミング知識\\n参加費⽤：無料\\n参加⽅法\\nRAG 講義のテスト受講⽤ discord サーバーにご参加ください。（招待リンクは別途\\n添付）'), 0.12181695516715063), (Document(id='0f4e149c-59a2-4b9b-914c-4a54a8a32017', metadata={'creationdate': '2024-12-30T12:27:58+00:00', 'creator': 'Chromium', 'moddate': '2024-12-30T12:27:58+00:00', 'page': 2, 'page_label': '3', 'producer': 'Skia/PDF m119', 'source': '/content/RAG-lecture-lesson1/sample_files/RAG講義のテスト受講案内.pdf', 'start_index': 177, 'total_pages': 3}, page_content='もしご質問等ございましたら、  lecture@labdemy.com 宛にご連絡ください。'), 0.008893469832467193), (Document(id='c9136da7-bece-4577-85a3-0c715d0857d3', metadata={'creationdate': '2024-12-30T12:27:58+00:00', 'creator': 'Chromium', 'moddate': '2024-12-30T12:27:58+00:00', 'page': 2, 'page_label': '3', 'producer': 'Skia/PDF m119', 'source': '/content/RAG-lecture-lesson1/sample_files/RAG講義のテスト受講案内.pdf', 'start_index': 105, 'total_pages': 3}, page_content='メンションを付けて質問をしてください。可能な限り迅速に回答いたしますが、質問内\\n容に応じて返信に時間がかかる場合がございます。\\nお問い合わせ先'), -0.02133214150855678), (Document(id='eb42a0cd-39c0-4d1e-9f6d-60c646243c32', metadata={'creationdate': '2024-12-30T12:27:58+00:00', 'creator': 'Chromium', 'moddate': '2024-12-30T12:27:58+00:00', 'page': 0, 'page_label': '1', 'producer': 'Skia/PDF m119', 'source': '/content/RAG-lecture-lesson1/sample_files/RAG講義のテスト受講案内.pdf', 'start_index': 0, 'total_pages': 3}, page_content='RA G 講 義 の テ ス ト 受 講 案 内\\n1\\nR A G 講義のテスト受講案内'), -0.03366171471711654)]\n",
            "  contexts = vector_db.similarity_search_with_relevance_scores(query,\n",
            " 75%|███████▌  | 6/8 [00:26<00:09,  4.63s/it]<ipython-input-39-bd2c6b96f717>:55: UserWarning: Relevance scores must be between 0 and 1, got [(Document(id='26523f49-1dc7-45e8-9f11-ae23efc707da', metadata={'creationdate': '2024-12-30T12:27:58+00:00', 'creator': 'Chromium', 'moddate': '2024-12-30T12:27:58+00:00', 'page': 1, 'page_label': '2', 'producer': 'Skia/PDF m119', 'source': '/content/RAG-lecture-lesson1/sample_files/RAG講義のテスト受講案内.pdf', 'start_index': 451, 'total_pages': 3}, page_content='必要な準備： Python 環境の準備、基礎的なプログラミング知識\\n参加費⽤：無料\\n参加⽅法\\nRAG 講義のテスト受講⽤ discord サーバーにご参加ください。（招待リンクは別途\\n添付）'), 0.16284341682973325), (Document(id='489d16ab-1e02-4270-8e90-b46166dc0de5', metadata={'creationdate': '2024-12-30T12:27:58+00:00', 'creator': 'Chromium', 'moddate': '2024-12-30T12:27:58+00:00', 'page': 1, 'page_label': '2', 'producer': 'Skia/PDF m119', 'source': '/content/RAG-lecture-lesson1/sample_files/RAG講義のテスト受講案内.pdf', 'start_index': 351, 'total_pages': 3}, page_content='第 3 回  2/16 \\ue081 ⽇ \\ue082 14\\ue09200\\ue0a315\\ue09230\\n第 4 回  2/23 \\ue081 ⽇ \\ue082 14\\ue09200\\ue0a315\\ue09230\\n参加⽅法： Zoom リンク（後⽇共有） ※ 講義は全てオンラインで⾏います。'), 0.09219460805261093), (Document(id='eb42a0cd-39c0-4d1e-9f6d-60c646243c32', metadata={'creationdate': '2024-12-30T12:27:58+00:00', 'creator': 'Chromium', 'moddate': '2024-12-30T12:27:58+00:00', 'page': 0, 'page_label': '1', 'producer': 'Skia/PDF m119', 'source': '/content/RAG-lecture-lesson1/sample_files/RAG講義のテスト受講案内.pdf', 'start_index': 0, 'total_pages': 3}, page_content='RA G 講 義 の テ ス ト 受 講 案 内\\n1\\nR A G 講義のテスト受講案内'), -0.03836748887265884), (Document(id='0f4e149c-59a2-4b9b-914c-4a54a8a32017', metadata={'creationdate': '2024-12-30T12:27:58+00:00', 'creator': 'Chromium', 'moddate': '2024-12-30T12:27:58+00:00', 'page': 2, 'page_label': '3', 'producer': 'Skia/PDF m119', 'source': '/content/RAG-lecture-lesson1/sample_files/RAG講義のテスト受講案内.pdf', 'start_index': 177, 'total_pages': 3}, page_content='もしご質問等ございましたら、  lecture@labdemy.com 宛にご連絡ください。'), -0.04557863033594378), (Document(id='c67dcd2e-0375-4d6d-ba52-d1a2c08c65e4', metadata={'creationdate': '2024-12-30T12:27:58+00:00', 'creator': 'Chromium', 'moddate': '2024-12-30T12:27:58+00:00', 'page': 2, 'page_label': '3', 'producer': 'Skia/PDF m119', 'source': '/content/RAG-lecture-lesson1/sample_files/RAG講義のテスト受講案内.pdf', 'start_index': 0, 'total_pages': 3}, page_content='RA G 講 義 の テ ス ト 受 講 案 内\\n3\\n講義期間中のサポート体制について'), -0.05988447408600228)]\n",
            "  contexts = vector_db.similarity_search_with_relevance_scores(query,\n",
            " 88%|████████▊ | 7/8 [00:28<00:03,  3.63s/it]<ipython-input-39-bd2c6b96f717>:55: UserWarning: Relevance scores must be between 0 and 1, got [(Document(id='26523f49-1dc7-45e8-9f11-ae23efc707da', metadata={'creationdate': '2024-12-30T12:27:58+00:00', 'creator': 'Chromium', 'moddate': '2024-12-30T12:27:58+00:00', 'page': 1, 'page_label': '2', 'producer': 'Skia/PDF m119', 'source': '/content/RAG-lecture-lesson1/sample_files/RAG講義のテスト受講案内.pdf', 'start_index': 451, 'total_pages': 3}, page_content='必要な準備： Python 環境の準備、基礎的なプログラミング知識\\n参加費⽤：無料\\n参加⽅法\\nRAG 講義のテスト受講⽤ discord サーバーにご参加ください。（招待リンクは別途\\n添付）'), 0.07753091500291043), (Document(id='78b22c02-af0d-4537-a51c-5d1105c3fe81', metadata={'creationdate': '2024-12-30T12:27:58+00:00', 'creator': 'Chromium', 'moddate': '2024-12-30T12:27:58+00:00', 'page': 1, 'page_label': '2', 'producer': 'Skia/PDF m119', 'source': '/content/RAG-lecture-lesson1/sample_files/RAG講義のテスト受講案内.pdf', 'start_index': 0, 'total_pages': 3}, page_content='RA G 講 義 の テ ス ト 受 講 案 内\\n2\\n第 1 回\\u2003 R A G の基本\\nRAG の基本概念と理論を学び、基礎的な RAG システムを構築できるようになります。'), -0.0023708145388470214), (Document(id='eb42a0cd-39c0-4d1e-9f6d-60c646243c32', metadata={'creationdate': '2024-12-30T12:27:58+00:00', 'creator': 'Chromium', 'moddate': '2024-12-30T12:27:58+00:00', 'page': 0, 'page_label': '1', 'producer': 'Skia/PDF m119', 'source': '/content/RAG-lecture-lesson1/sample_files/RAG講義のテスト受講案内.pdf', 'start_index': 0, 'total_pages': 3}, page_content='RA G 講 義 の テ ス ト 受 講 案 内\\n1\\nR A G 講義のテスト受講案内'), -0.012137929789234114), (Document(id='489d16ab-1e02-4270-8e90-b46166dc0de5', metadata={'creationdate': '2024-12-30T12:27:58+00:00', 'creator': 'Chromium', 'moddate': '2024-12-30T12:27:58+00:00', 'page': 1, 'page_label': '2', 'producer': 'Skia/PDF m119', 'source': '/content/RAG-lecture-lesson1/sample_files/RAG講義のテスト受講案内.pdf', 'start_index': 351, 'total_pages': 3}, page_content='第 3 回  2/16 \\ue081 ⽇ \\ue082 14\\ue09200\\ue0a315\\ue09230\\n第 4 回  2/23 \\ue081 ⽇ \\ue082 14\\ue09200\\ue0a315\\ue09230\\n参加⽅法： Zoom リンク（後⽇共有） ※ 講義は全てオンラインで⾏います。'), -0.019826338449514314), (Document(id='c9136da7-bece-4577-85a3-0c715d0857d3', metadata={'creationdate': '2024-12-30T12:27:58+00:00', 'creator': 'Chromium', 'moddate': '2024-12-30T12:27:58+00:00', 'page': 2, 'page_label': '3', 'producer': 'Skia/PDF m119', 'source': '/content/RAG-lecture-lesson1/sample_files/RAG講義のテスト受講案内.pdf', 'start_index': 105, 'total_pages': 3}, page_content='メンションを付けて質問をしてください。可能な限り迅速に回答いたしますが、質問内\\n容に応じて返信に時間がかかる場合がございます。\\nお問い合わせ先'), -0.024938407956331954)]\n",
            "  contexts = vector_db.similarity_search_with_relevance_scores(query,\n",
            "100%|██████████| 8/8 [00:31<00:00,  3.94s/it]\n"
          ]
        }
      ]
    },
    {
      "cell_type": "markdown",
      "source": [
        "## RAGAs評価"
      ],
      "metadata": {
        "id": "a3rhRU_MVmX_"
      }
    },
    {
      "cell_type": "code",
      "source": [
        "#評価データセット作成\n",
        "\n",
        "eval_dataset_dict = {\n",
        "  \"user_input\": questions, #質問集\n",
        "  \"response\": model_answers, #LLMの回答\n",
        "  \"retrieved_contexts\": contexts, #コンテキスト情報\n",
        "  \"reference\": ideal_answers #理想的な回答\n",
        "}\n",
        "\n",
        "eval_dataset = Dataset.from_dict(eval_dataset_dict)"
      ],
      "metadata": {
        "id": "cwWb7xaei8Xp"
      },
      "execution_count": 112,
      "outputs": []
    },
    {
      "cell_type": "code",
      "source": [
        "from ragas import evaluate\n",
        "from ragas.metrics import (\n",
        "    answer_relevancy,\n",
        "    faithfulness,\n",
        "    context_recall,\n",
        "    context_precision,\n",
        ")"
      ],
      "metadata": {
        "id": "1Ozxd3MnVoMB"
      },
      "execution_count": 113,
      "outputs": []
    },
    {
      "cell_type": "code",
      "source": [
        "scores = evaluate(\n",
        "    dataset=eval_dataset,\n",
        "    metrics=[context_precision,context_recall,answer_relevancy,faithfulness]\n",
        ")\n",
        "\n",
        "print(scores)"
      ],
      "metadata": {
        "colab": {
          "base_uri": "https://localhost:8080/",
          "height": 142,
          "referenced_widgets": [
            "61acc30b626046329e960ede3d5835df",
            "d61ee173712d404fbec40ad7deab3a2a",
            "806b10dc6eda41babadec08cbe13ce54",
            "66f6277d35de48d784205e4d53eb0dd3",
            "09cd66fabf314dfbaaee63767eb4127b",
            "280c91287b644d61af077c2c572a9312",
            "1ab6e7da45ab4b69b10ccd343a2533ed",
            "6d791de0e6a2469a989248dd1e520cf0",
            "aecebfba68194ba59b19428283f75953",
            "08a2a9bf20a249ac88207d920d31bc47",
            "a017f7847dc34c758f50bc739a613ea2"
          ]
        },
        "id": "II4Bo2NDlIYC",
        "outputId": "9ac8d590-c356-4bd9-832d-c55f03f6634b"
      },
      "execution_count": 114,
      "outputs": [
        {
          "output_type": "display_data",
          "data": {
            "text/plain": [
              "Evaluating:   0%|          | 0/32 [00:00<?, ?it/s]"
            ],
            "application/vnd.jupyter.widget-view+json": {
              "version_major": 2,
              "version_minor": 0,
              "model_id": "61acc30b626046329e960ede3d5835df"
            }
          },
          "metadata": {}
        },
        {
          "output_type": "stream",
          "name": "stderr",
          "text": [
            "ERROR:ragas.executor:Exception raised in Job[10]: AuthenticationError(Error code: 401 - {'error': {'message': 'Incorrect API key provided: sk-proj-********************************************************************************************************************************************************YuQA. You can find your API key at https://platform.openai.com/account/api-keys.', 'type': 'invalid_request_error', 'param': None, 'code': 'invalid_api_key'}})\n",
            "ERROR:ragas.executor:Exception raised in Job[22]: AuthenticationError(Error code: 401 - {'error': {'message': 'Incorrect API key provided: sk-proj-********************************************************************************************************************************************************YuQA. You can find your API key at https://platform.openai.com/account/api-keys.', 'type': 'invalid_request_error', 'param': None, 'code': 'invalid_api_key'}})\n",
            "ERROR:ragas.executor:Exception raised in Job[26]: AuthenticationError(Error code: 401 - {'error': {'message': 'Incorrect API key provided: sk-proj-********************************************************************************************************************************************************YuQA. You can find your API key at https://platform.openai.com/account/api-keys.', 'type': 'invalid_request_error', 'param': None, 'code': 'invalid_api_key'}})\n"
          ]
        },
        {
          "output_type": "stream",
          "name": "stdout",
          "text": [
            "{'context_precision': 0.6667, 'context_recall': 0.8125, 'answer_relevancy': 0.8210, 'faithfulness': 0.8281}\n"
          ]
        }
      ]
    },
    {
      "cell_type": "code",
      "source": [
        "for model_answer,ideal_answer in zip(model_answers,ideal_answers):\n",
        "  print(\"=\"*20)\n",
        "  print(\"【LLMの回答】\\n\",model_answer)\n",
        "  print(\"\\n\")\n",
        "  print(\"【理想的な回答】\\n\",ideal_answer)"
      ],
      "metadata": {
        "colab": {
          "base_uri": "https://localhost:8080/"
        },
        "id": "clG5Z4A6q2f8",
        "outputId": "8f1422af-18a8-4fd9-ca7b-aa4209191e85"
      },
      "execution_count": 122,
      "outputs": [
        {
          "output_type": "stream",
          "name": "stdout",
          "text": [
            "====================\n",
            "【LLMの回答】\n",
            " Assistant: \n",
            "この講義は、Retrieval-Augmented Generation（RAG）について網羅的に学ぶものです。合計4回の講義を通じて、RAGについて深く理解することが目指されています。また、この講義はオンラインで行われ、Zoomリンクを通じて参加することができます。\n",
            "\n",
            "\n",
            "【理想的な回答】\n",
            " この講義はRAGについて学ぶ講義です。\n",
            "====================\n",
            "【LLMの回答】\n",
            " Assistant: \n",
            "主催者は「Labdemy」です。\n",
            "\n",
            "\n",
            "【理想的な回答】\n",
            " 主催者はAI人材の育成に取り組んでいるLabdemyという団体です。\n",
            "====================\n",
            "【LLMの回答】\n",
            " Assistant: 合計で4回の講義があります。\n",
            "\n",
            "\n",
            "【理想的な回答】\n",
            " 講義は合計4回です。\n",
            "====================\n",
            "【LLMの回答】\n",
            " Assistant: \n",
            "講義は次の日程で行われます：\n",
            "第 3 回は2月16日、14:00から15:30まで。\n",
            "第 4 回は2月23日、14:00から15:30までです。全ての講義はオンライン（Zoom）で行われます。\n",
            "\n",
            "\n",
            "【理想的な回答】\n",
            " 講義日程は：\n",
            " 第1回 2/2 (日) 14:00~15:30 \n",
            " 第2回 2/9 (日) 14:00~15:30 \n",
            " 第3回 2/16 (日) 14:00~15:30 \n",
            " 第4回 2/23 (日) 14:00~15:30 \n",
            "です。\n",
            "====================\n",
            "【LLMの回答】\n",
            " Assistant: \n",
            "参加方法は次のとおりです。まず、Python環境の準備と基礎的なプログラミング知識が必要です。次に、Zoomリンクを通じてオンラインで講義に参加します。そのリンクは後日共有されます。また、RAG講義のテスト受講用のDiscordサーバーにも参加する必要があります。招待リンクは別途添付されます。参加費用は無料です。\n",
            "\n",
            "\n",
            "【理想的な回答】\n",
            " 参加したい場合はこちらの[リンク](https://discord.gg/JaQPZ5Gx?event=1323252933327847464)からdiscordサーバーに参加してください。\n",
            "====================\n",
            "【LLMの回答】\n",
            " Assistant: \n",
            "担当者への連絡は、lecture@labdemy.com 宛にご連絡ください。\n",
            "\n",
            "\n",
            "【理想的な回答】\n",
            " 担当者の連絡先はlecture@labdemy.comです。\n",
            "====================\n",
            "【LLMの回答】\n",
            " Assistant: 参加費は無料です。\n",
            "\n",
            "\n",
            "【理想的な回答】\n",
            " 参加費は無料です。\n",
            "====================\n",
            "【LLMの回答】\n",
            " Assistant: \n",
            "はい、事前準備としてPython環境の準備と基礎的なプログラミング知識が必要です。\n",
            "\n",
            "\n",
            "【理想的な回答】\n",
            " 事前準備はPython環境の準備、基礎的なプログラミング知識が必要です。\n"
          ]
        }
      ]
    }
  ],
  "metadata": {
    "colab": {
      "provenance": []
    },
    "kernelspec": {
      "display_name": "Python 3",
      "name": "python3"
    },
    "language_info": {
      "name": "python"
    },
    "widgets": {
      "application/vnd.jupyter.widget-state+json": {
        "61acc30b626046329e960ede3d5835df": {
          "model_module": "@jupyter-widgets/controls",
          "model_name": "HBoxModel",
          "model_module_version": "1.5.0",
          "state": {
            "_dom_classes": [],
            "_model_module": "@jupyter-widgets/controls",
            "_model_module_version": "1.5.0",
            "_model_name": "HBoxModel",
            "_view_count": null,
            "_view_module": "@jupyter-widgets/controls",
            "_view_module_version": "1.5.0",
            "_view_name": "HBoxView",
            "box_style": "",
            "children": [
              "IPY_MODEL_d61ee173712d404fbec40ad7deab3a2a",
              "IPY_MODEL_806b10dc6eda41babadec08cbe13ce54",
              "IPY_MODEL_66f6277d35de48d784205e4d53eb0dd3"
            ],
            "layout": "IPY_MODEL_09cd66fabf314dfbaaee63767eb4127b"
          }
        },
        "d61ee173712d404fbec40ad7deab3a2a": {
          "model_module": "@jupyter-widgets/controls",
          "model_name": "HTMLModel",
          "model_module_version": "1.5.0",
          "state": {
            "_dom_classes": [],
            "_model_module": "@jupyter-widgets/controls",
            "_model_module_version": "1.5.0",
            "_model_name": "HTMLModel",
            "_view_count": null,
            "_view_module": "@jupyter-widgets/controls",
            "_view_module_version": "1.5.0",
            "_view_name": "HTMLView",
            "description": "",
            "description_tooltip": null,
            "layout": "IPY_MODEL_280c91287b644d61af077c2c572a9312",
            "placeholder": "​",
            "style": "IPY_MODEL_1ab6e7da45ab4b69b10ccd343a2533ed",
            "value": "Evaluating: 100%"
          }
        },
        "806b10dc6eda41babadec08cbe13ce54": {
          "model_module": "@jupyter-widgets/controls",
          "model_name": "FloatProgressModel",
          "model_module_version": "1.5.0",
          "state": {
            "_dom_classes": [],
            "_model_module": "@jupyter-widgets/controls",
            "_model_module_version": "1.5.0",
            "_model_name": "FloatProgressModel",
            "_view_count": null,
            "_view_module": "@jupyter-widgets/controls",
            "_view_module_version": "1.5.0",
            "_view_name": "ProgressView",
            "bar_style": "success",
            "description": "",
            "description_tooltip": null,
            "layout": "IPY_MODEL_6d791de0e6a2469a989248dd1e520cf0",
            "max": 32,
            "min": 0,
            "orientation": "horizontal",
            "style": "IPY_MODEL_aecebfba68194ba59b19428283f75953",
            "value": 32
          }
        },
        "66f6277d35de48d784205e4d53eb0dd3": {
          "model_module": "@jupyter-widgets/controls",
          "model_name": "HTMLModel",
          "model_module_version": "1.5.0",
          "state": {
            "_dom_classes": [],
            "_model_module": "@jupyter-widgets/controls",
            "_model_module_version": "1.5.0",
            "_model_name": "HTMLModel",
            "_view_count": null,
            "_view_module": "@jupyter-widgets/controls",
            "_view_module_version": "1.5.0",
            "_view_name": "HTMLView",
            "description": "",
            "description_tooltip": null,
            "layout": "IPY_MODEL_08a2a9bf20a249ac88207d920d31bc47",
            "placeholder": "​",
            "style": "IPY_MODEL_a017f7847dc34c758f50bc739a613ea2",
            "value": " 32/32 [00:11&lt;00:00,  1.52it/s]"
          }
        },
        "09cd66fabf314dfbaaee63767eb4127b": {
          "model_module": "@jupyter-widgets/base",
          "model_name": "LayoutModel",
          "model_module_version": "1.2.0",
          "state": {
            "_model_module": "@jupyter-widgets/base",
            "_model_module_version": "1.2.0",
            "_model_name": "LayoutModel",
            "_view_count": null,
            "_view_module": "@jupyter-widgets/base",
            "_view_module_version": "1.2.0",
            "_view_name": "LayoutView",
            "align_content": null,
            "align_items": null,
            "align_self": null,
            "border": null,
            "bottom": null,
            "display": null,
            "flex": null,
            "flex_flow": null,
            "grid_area": null,
            "grid_auto_columns": null,
            "grid_auto_flow": null,
            "grid_auto_rows": null,
            "grid_column": null,
            "grid_gap": null,
            "grid_row": null,
            "grid_template_areas": null,
            "grid_template_columns": null,
            "grid_template_rows": null,
            "height": null,
            "justify_content": null,
            "justify_items": null,
            "left": null,
            "margin": null,
            "max_height": null,
            "max_width": null,
            "min_height": null,
            "min_width": null,
            "object_fit": null,
            "object_position": null,
            "order": null,
            "overflow": null,
            "overflow_x": null,
            "overflow_y": null,
            "padding": null,
            "right": null,
            "top": null,
            "visibility": null,
            "width": null
          }
        },
        "280c91287b644d61af077c2c572a9312": {
          "model_module": "@jupyter-widgets/base",
          "model_name": "LayoutModel",
          "model_module_version": "1.2.0",
          "state": {
            "_model_module": "@jupyter-widgets/base",
            "_model_module_version": "1.2.0",
            "_model_name": "LayoutModel",
            "_view_count": null,
            "_view_module": "@jupyter-widgets/base",
            "_view_module_version": "1.2.0",
            "_view_name": "LayoutView",
            "align_content": null,
            "align_items": null,
            "align_self": null,
            "border": null,
            "bottom": null,
            "display": null,
            "flex": null,
            "flex_flow": null,
            "grid_area": null,
            "grid_auto_columns": null,
            "grid_auto_flow": null,
            "grid_auto_rows": null,
            "grid_column": null,
            "grid_gap": null,
            "grid_row": null,
            "grid_template_areas": null,
            "grid_template_columns": null,
            "grid_template_rows": null,
            "height": null,
            "justify_content": null,
            "justify_items": null,
            "left": null,
            "margin": null,
            "max_height": null,
            "max_width": null,
            "min_height": null,
            "min_width": null,
            "object_fit": null,
            "object_position": null,
            "order": null,
            "overflow": null,
            "overflow_x": null,
            "overflow_y": null,
            "padding": null,
            "right": null,
            "top": null,
            "visibility": null,
            "width": null
          }
        },
        "1ab6e7da45ab4b69b10ccd343a2533ed": {
          "model_module": "@jupyter-widgets/controls",
          "model_name": "DescriptionStyleModel",
          "model_module_version": "1.5.0",
          "state": {
            "_model_module": "@jupyter-widgets/controls",
            "_model_module_version": "1.5.0",
            "_model_name": "DescriptionStyleModel",
            "_view_count": null,
            "_view_module": "@jupyter-widgets/base",
            "_view_module_version": "1.2.0",
            "_view_name": "StyleView",
            "description_width": ""
          }
        },
        "6d791de0e6a2469a989248dd1e520cf0": {
          "model_module": "@jupyter-widgets/base",
          "model_name": "LayoutModel",
          "model_module_version": "1.2.0",
          "state": {
            "_model_module": "@jupyter-widgets/base",
            "_model_module_version": "1.2.0",
            "_model_name": "LayoutModel",
            "_view_count": null,
            "_view_module": "@jupyter-widgets/base",
            "_view_module_version": "1.2.0",
            "_view_name": "LayoutView",
            "align_content": null,
            "align_items": null,
            "align_self": null,
            "border": null,
            "bottom": null,
            "display": null,
            "flex": null,
            "flex_flow": null,
            "grid_area": null,
            "grid_auto_columns": null,
            "grid_auto_flow": null,
            "grid_auto_rows": null,
            "grid_column": null,
            "grid_gap": null,
            "grid_row": null,
            "grid_template_areas": null,
            "grid_template_columns": null,
            "grid_template_rows": null,
            "height": null,
            "justify_content": null,
            "justify_items": null,
            "left": null,
            "margin": null,
            "max_height": null,
            "max_width": null,
            "min_height": null,
            "min_width": null,
            "object_fit": null,
            "object_position": null,
            "order": null,
            "overflow": null,
            "overflow_x": null,
            "overflow_y": null,
            "padding": null,
            "right": null,
            "top": null,
            "visibility": null,
            "width": null
          }
        },
        "aecebfba68194ba59b19428283f75953": {
          "model_module": "@jupyter-widgets/controls",
          "model_name": "ProgressStyleModel",
          "model_module_version": "1.5.0",
          "state": {
            "_model_module": "@jupyter-widgets/controls",
            "_model_module_version": "1.5.0",
            "_model_name": "ProgressStyleModel",
            "_view_count": null,
            "_view_module": "@jupyter-widgets/base",
            "_view_module_version": "1.2.0",
            "_view_name": "StyleView",
            "bar_color": null,
            "description_width": ""
          }
        },
        "08a2a9bf20a249ac88207d920d31bc47": {
          "model_module": "@jupyter-widgets/base",
          "model_name": "LayoutModel",
          "model_module_version": "1.2.0",
          "state": {
            "_model_module": "@jupyter-widgets/base",
            "_model_module_version": "1.2.0",
            "_model_name": "LayoutModel",
            "_view_count": null,
            "_view_module": "@jupyter-widgets/base",
            "_view_module_version": "1.2.0",
            "_view_name": "LayoutView",
            "align_content": null,
            "align_items": null,
            "align_self": null,
            "border": null,
            "bottom": null,
            "display": null,
            "flex": null,
            "flex_flow": null,
            "grid_area": null,
            "grid_auto_columns": null,
            "grid_auto_flow": null,
            "grid_auto_rows": null,
            "grid_column": null,
            "grid_gap": null,
            "grid_row": null,
            "grid_template_areas": null,
            "grid_template_columns": null,
            "grid_template_rows": null,
            "height": null,
            "justify_content": null,
            "justify_items": null,
            "left": null,
            "margin": null,
            "max_height": null,
            "max_width": null,
            "min_height": null,
            "min_width": null,
            "object_fit": null,
            "object_position": null,
            "order": null,
            "overflow": null,
            "overflow_x": null,
            "overflow_y": null,
            "padding": null,
            "right": null,
            "top": null,
            "visibility": null,
            "width": null
          }
        },
        "a017f7847dc34c758f50bc739a613ea2": {
          "model_module": "@jupyter-widgets/controls",
          "model_name": "DescriptionStyleModel",
          "model_module_version": "1.5.0",
          "state": {
            "_model_module": "@jupyter-widgets/controls",
            "_model_module_version": "1.5.0",
            "_model_name": "DescriptionStyleModel",
            "_view_count": null,
            "_view_module": "@jupyter-widgets/base",
            "_view_module_version": "1.2.0",
            "_view_name": "StyleView",
            "description_width": ""
          }
        }
      }
    }
  },
  "nbformat": 4,
  "nbformat_minor": 0
}